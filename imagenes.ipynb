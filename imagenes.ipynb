{
  "nbformat": 4,
  "nbformat_minor": 0,
  "metadata": {
    "colab": {
      "provenance": [],
      "mount_file_id": "1PpyL-G5-THkTxckyU51DlegKN_bz2eyT",
      "authorship_tag": "ABX9TyODBXhbYJqGjom9m9MCNiqI",
      "include_colab_link": true
    },
    "kernelspec": {
      "name": "python3",
      "display_name": "Python 3"
    },
    "language_info": {
      "name": "python"
    }
  },
  "cells": [
    {
      "cell_type": "markdown",
      "metadata": {
        "id": "view-in-github",
        "colab_type": "text"
      },
      "source": [
        "<a href=\"https://colab.research.google.com/github/DiegoGastaldie/Proyecto/blob/master/imagenes.ipynb\" target=\"_parent\"><img src=\"https://colab.research.google.com/assets/colab-badge.svg\" alt=\"Open In Colab\"/></a>"
      ]
    },
    {
      "cell_type": "code",
      "execution_count": null,
      "metadata": {
        "colab": {
          "base_uri": "https://localhost:8080/"
        },
        "id": "Pab-NXAYBwW3",
        "outputId": "adc38146-4de5-444e-9e43-14c68c36370b"
      },
      "outputs": [
        {
          "output_type": "stream",
          "name": "stdout",
          "text": [
            "Drive already mounted at /content/drive; to attempt to forcibly remount, call drive.mount(\"/content/drive\", force_remount=True).\n",
            "Total images downloaded: 63\n"
          ]
        }
      ],
      "source": [
        "from google.colab import drive\n",
        "import shutil\n",
        "\n",
        "drive.mount('/content/drive')\n",
        "\n",
        "def download_images_to_drive(url):\n",
        "    htmldata, domain = getdata(url)\n",
        "    soup = BeautifulSoup(htmldata, 'html.parser')\n",
        "    it = 0\n",
        "    image_folder = 'proyecto_imagenes'\n",
        "    os.makedirs(image_folder, exist_ok=True)\n",
        "\n",
        "    for item in soup.find_all('img'):\n",
        "        if 'src' in item.attrs:\n",
        "            image_src = item['src']\n",
        "            if image_src.startswith('http'):\n",
        "                image_url = image_src\n",
        "            elif image_src.startswith('d'):\n",
        "                image_url = 'https://' + domain + '/' + image_src\n",
        "            else:\n",
        "                continue\n",
        "\n",
        "            filename = os.path.join(image_folder, image_url.split('/')[-1])\n",
        "            try:\n",
        "                urllib.request.urlretrieve(image_url, filename)\n",
        "                it += 1\n",
        "            except Exception as e:\n",
        "                print(f\"Error downloading {image_url}: {e}\")\n",
        "\n",
        "    print(f\"Total images downloaded: {it}\")\n",
        "\n",
        "    shutil.make_archive(image_folder, 'zip', image_folder)\n",
        "    shutil.move(f'{image_folder}.zip', '/content/drive/My Drive')\n",
        "url = 'https://www.fundacioncnse.org/educa/bancolse/dactilologico.php#gsc.tab=0'\n",
        "download_images_to_drive(url)\n",
        "\n"
      ]
    },
    {
      "cell_type": "code",
      "source": [
        "from google.colab import drive\n",
        "drive.mount('/content/drive')"
      ],
      "metadata": {
        "id": "Kcm8HxFcEueA"
      },
      "execution_count": null,
      "outputs": []
    },
    {
      "cell_type": "code",
      "source": [
        "from requests.models import parse_url\n",
        "parse_url = urlparse(url)\n",
        "print(parse_url.netloc + parse_url.path)\n",
        "print(item['src'])\n",
        "print((parse_url.netloc + parse_url.path)[:-17] + item['src'])\n",
        "imageUrl = ((parse_url.netloc + parse_url.path)[:-17] + item['src'])\n",
        "imageUrl.split('/')[-1]"
      ],
      "metadata": {
        "id": "pPEDRa2KBxeY",
        "colab": {
          "base_uri": "https://localhost:8080/",
          "height": 88
        },
        "outputId": "b49083ee-631e-4387-c636-e03ea8033ccb"
      },
      "execution_count": null,
      "outputs": [
        {
          "output_type": "stream",
          "name": "stdout",
          "text": [
            "www.fundacioncnse.org/educa/bancolse/dactilologico.php\n",
            "dactilologico/imagenes/N2-SIGNO.jpg\n",
            "www.fundacioncnse.org/educa/bancolse/dactilologico/imagenes/N2-SIGNO.jpg\n"
          ]
        },
        {
          "output_type": "execute_result",
          "data": {
            "text/plain": [
              "'N2-SIGNO.jpg'"
            ],
            "application/vnd.google.colaboratory.intrinsic+json": {
              "type": "string"
            }
          },
          "metadata": {},
          "execution_count": 3
        }
      ]
    },
    {
      "cell_type": "code",
      "source": [],
      "metadata": {
        "id": "r9WqlabpcTy-"
      },
      "execution_count": null,
      "outputs": []
    }
  ]
}