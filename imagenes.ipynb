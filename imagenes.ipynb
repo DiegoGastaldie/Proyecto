{
  "nbformat": 4,
  "nbformat_minor": 0,
  "metadata": {
    "colab": {
      "provenance": [],
      "mount_file_id": "1PpyL-G5-THkTxckyU51DlegKN_bz2eyT",
      "authorship_tag": "ABX9TyPEdralvbBVmSv3kS3FkaBU",
      "include_colab_link": true
    },
    "kernelspec": {
      "name": "python3",
      "display_name": "Python 3"
    },
    "language_info": {
      "name": "python"
    }
  },
  "cells": [
    {
      "cell_type": "markdown",
      "metadata": {
        "id": "view-in-github",
        "colab_type": "text"
      },
      "source": [
        "<a href=\"https://colab.research.google.com/github/DiegoGastaldie/Proyecto/blob/master/imagenes.ipynb\" target=\"_parent\"><img src=\"https://colab.research.google.com/assets/colab-badge.svg\" alt=\"Open In Colab\"/></a>"
      ]
    },
    {
      "cell_type": "code",
      "execution_count": 8,
      "metadata": {
        "colab": {
          "base_uri": "https://localhost:8080/"
        },
        "id": "Pab-NXAYBwW3",
        "outputId": "d9968daa-595e-4b05-c759-62fdff9e16d2"
      },
      "outputs": [
        {
          "output_type": "stream",
          "name": "stdout",
          "text": [
            "Total images downloaded: 63\n"
          ]
        }
      ],
      "source": [
        "import os\n",
        "import requests\n",
        "from bs4 import BeautifulSoup\n",
        "import urllib\n",
        "from urllib.parse import urlparse\n",
        "import shutil\n",
        "import zipfile\n",
        "\n",
        "def getdata(url):\n",
        "    headers = {'User-Agent': 'Mozilla/5.0 (Windows NT 6.1; WOW64; rv:20.0) Gecko/20100101 Firefox/20.0'}\n",
        "    response = requests.get(url, headers=headers)\n",
        "    parsed_url = urlparse(url)\n",
        "    domain = (parsed_url.netloc + parsed_url.path)[:-17]  ",
        "    return response.text, domain\n",
        "\n",
        "def download_images(url):\n",
        "    htmldata, domain = getdata(url)\n",
        "    soup = BeautifulSoup(htmldata, 'html.parser')\n",
        "    it = 0\n",
        "    image_folder = 'proyecto_images'\n",
        "    os.makedirs(image_folder, exist_ok=True)\n",
        "\n",
        "    for item in soup.find_all('img'):\n",
        "        if 'src' in item.attrs:  
",
        "            image_src = item['src']\n",
        "            if image_src.startswith('http'):\n",
        "                image_url = image_src\n",
        "            elif image_src.startswith('d'):\n",
        "                image_url = 'https://' + domain + '/' + image_src\n",
        "            else:\n",
        "                continue ,
        "\n",
        "            filename = os.path.join(image_folder, image_url.split('/')[-1])\n",
        "            try:\n",
        "                urllib.request.urlretrieve(image_url, filename)\n",
        "                it += 1\n",
        "            except Exception as e:\n",
        "                print(f\"Error downloading {image_url}: {e}\")\n",
        "\n",
        "    print(f\"Total images downloaded: {it}\")\n",
        "\n",
        "    shutil.make_archive(image_folder, 'zip', image_folder)\n",
        "\n",
        "url = 'https://www.fundacioncnse.org/educa/bancolse/dactilologico.php#gsc.tab=0'\n",
        "download_images(url)\n",
        "\n"
      ]
    },
    {
      "cell_type": "code",
      "source": [
        "from google.colab import drive\n",
        "drive.mount('/content/drive')"
      ],
      "metadata": {
        "id": "Kcm8HxFcEueA"
      },
      "execution_count": null,
      "outputs": []
    },
    {
      "cell_type": "code",
      "source": [
        "from requests.models import parse_url\n",
        "parse_url = urlparse(url)\n",
        "print(parse_url.netloc + parse_url.path)\n",
        "print(item['src'])\n",
        "print((parse_url.netloc + parse_url.path)[:-17] + item['src'])\n",
        "imageUrl = ((parse_url.netloc + parse_url.path)[:-17] + item['src'])\n",
        "imageUrl.split('/')[-1]"
      ],
      "metadata": {
        "id": "pPEDRa2KBxeY",
        "colab": {
          "base_uri": "https://localhost:8080/",
          "height": 88
        },
        "outputId": "b49083ee-631e-4387-c636-e03ea8033ccb"
      },
      "execution_count": null,
      "outputs": [
        {
          "output_type": "stream",
          "name": "stdout",
          "text": [
            "www.fundacioncnse.org/educa/bancolse/dactilologico.php\n",
            "dactilologico/imagenes/N2-SIGNO.jpg\n",
            "www.fundacioncnse.org/educa/bancolse/dactilologico/imagenes/N2-SIGNO.jpg\n"
          ]
        },
        {
          "output_type": "execute_result",
          "data": {
            "text/plain": [
              "'N2-SIGNO.jpg'"
            ],
            "application/vnd.google.colaboratory.intrinsic+json": {
              "type": "string"
            }
          },
          "metadata": {},
          "execution_count": 3
        }
      ]
    },
    {
      "cell_type": "code",
      "source": [],
      "metadata": {
        "id": "r9WqlabpcTy-"
      },
      "execution_count": null,
      "outputs": []
    }
  ]
}
